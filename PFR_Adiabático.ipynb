{
  "nbformat": 4,
  "nbformat_minor": 0,
  "metadata": {
    "colab": {
      "provenance": [],
      "authorship_tag": "ABX9TyOQ9d92aRFqV/4G0W3O42p9",
      "include_colab_link": true
    },
    "kernelspec": {
      "name": "python3",
      "display_name": "Python 3"
    },
    "language_info": {
      "name": "python"
    }
  },
  "cells": [
    {
      "cell_type": "markdown",
      "metadata": {
        "id": "view-in-github",
        "colab_type": "text"
      },
      "source": [
        "<a href=\"https://colab.research.google.com/github/DnSnnnn/Reatores-/blob/main/PFR_Adiab%C3%A1tico.ipynb\" target=\"_parent\"><img src=\"https://colab.research.google.com/assets/colab-badge.svg\" alt=\"Open In Colab\"/></a>"
      ]
    },
    {
      "cell_type": "code",
      "execution_count": null,
      "metadata": {
        "id": "HZlZBpTPnCqa"
      },
      "outputs": [],
      "source": [
        "# Reator PFR\n",
        "# Operação Adiabática De Reator Contínuo\n",
        "# A ---> B + C\n",
        "#Hipóteses\n",
        "#--> Estado Estacionário\n",
        "#--> Sem mudança de fase\n",
        "#--> Reação Irreversível\n",
        "#Bibliotecas\n",
        "import numpy as np\n",
        "from scipy.integrate import odeint\n",
        "import matplotlib.pyplot as plt\n",
        "\n",
        "#Dados Do Problema\n",
        "\n",
        "Fa0 = 10                   # mol/min\n",
        "Ca0 = 2/(0.082*1100)       # mol / L\n",
        "\n",
        "v0 = Fa0 / Ca0             # Vazão volumetrica\n",
        "Ft0 = Fa0\n",
        "\n",
        "T0 = 1100                  # K\n",
        "dHrx = 80000               # J/mol a 298K\n",
        "Cpa = 170                  # J/mol/K\n",
        "Cpb = 90                   # J/mol/K\n",
        "Cpc = 80                   # J/mol/K\n",
        "Cpi = 200                  # J/mol/K\n",
        "Ci0 = Ca0\n",
        "theta = 100\n",
        "e = 1/(1+theta)\n",
        "To = 1100\n",
        "Ca01 = (Ca0+Ci0)/(theta+1)     #Concentração Total\n",
        "\n",
        "def adiabatic_pfr(Y, V, Fi0):\n",
        "    x, T = Y\n",
        "    #T = (x*(-dHrx)+(Cpa+theta*Cpi)*To)/(Cpa+theta*Cpi)\n",
        "    k = np.exp(34.3 - 34222.0 / T)\n",
        "    Ca = Ca01\n",
        "    r = k * Ca01*(1-x)*T0/(1+e*x)/T\n",
        "    ra = r\n",
        "\n",
        "    dXdV = r/Fa0\n",
        "    dTdV = (-dHrx * ra) / (Fa0 * Cpa + Fi0 * Cpi)\n",
        "\n",
        "    return [dXdV, dTdV]\n",
        "\n",
        "\n",
        "V = np.linspace(0, 500) # volume L\n",
        "Y0 = [0, T0]\n",
        "\n",
        "\n",
        "#colors = 'rgbk'\n",
        "for i, Fi0 in enumerate([100,15,0.0]):\n",
        "    sol = odeint(adiabatic_pfr, Y0, V, args=(Fi0,))\n",
        "\n",
        "    X = sol[:, 0]\n",
        "    T = sol[:, 1]\n",
        "    #X = ((Fa - Fa0) * (-1) / Fa0)\n",
        "\n",
        "    plt.subplot(1,2,1)\n",
        "    plt.plot(V, X,  label='Fi0 = {0} mol/s'.format(Fi0))\n",
        "    plt.xlabel('Volume (L)')\n",
        "    plt.ylabel('Conversão(%)')\n",
        "\n",
        "    plt.subplot(1,2,2)\n",
        "    plt.plot(V, T,  label='Fi0 = {0} mol/s'.format(Fi0))\n",
        "    plt.xlabel('Volume (L)')\n",
        "    plt.ylabel('Temperature (K)')\n",
        "\n",
        "plt.subplot(1,2,1)\n",
        "plt.legend(loc='best')\n",
        "\n",
        "plt.subplot(1,2,2)\n",
        "plt.legend(loc='best')\n",
        "\n",
        "plt.tight_layout()\n",
        "\n",
        "plt.show()"
      ]
    },
    {
      "cell_type": "code",
      "source": [],
      "metadata": {
        "id": "uiT4clWsbunv"
      },
      "execution_count": null,
      "outputs": []
    }
  ]
}